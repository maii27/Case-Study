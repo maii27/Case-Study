{
	"metadata": {
		"kernelspec": {
			"name": "glue_pyspark",
			"display_name": "Glue PySpark",
			"language": "python"
		},
		"language_info": {
			"name": "Python_Glue_Session",
			"mimetype": "text/x-python",
			"codemirror_mode": {
				"name": "python",
				"version": 3
			},
			"pygments_lexer": "python3",
			"file_extension": ".py"
		}
	},
	"nbformat_minor": 4,
	"nbformat": 4,
	"cells": [
		{
			"cell_type": "markdown",
			"source": "## Set up envinronment",
			"metadata": {}
		},
		{
			"cell_type": "code",
			"source": "import sys\nimport re\nfrom awsglue.transforms import *\nfrom awsglue.utils import getResolvedOptions\nfrom pyspark.context import SparkContext\nfrom awsglue.context import GlueContext\nfrom awsglue.job import Job\nfrom pyspark.sql.functions import input_file_name, split, lit, concat, col, coalesce, expr ,year, month, dayofmonth,regexp_extract,current_timestamp, lower\nfrom pyspark.sql.types import StructType, StructField, StringType,LongType\nfrom awsglue.dynamicframe import DynamicFrame\nfrom pyspark.sql import functions as F\nfrom pyspark.sql.window import Window\nfrom datetime import datetime, timedelta\nfrom pyspark.sql import SparkSession\n\n\nsc = SparkContext.getOrCreate()\nglueContext = GlueContext(sc)\nspark = glueContext.spark_session\njob = Job(glueContext)",
			"metadata": {
				"trusted": true,
				"tags": []
			},
			"execution_count": 1,
			"outputs": [
				{
					"name": "stdout",
					"text": "Welcome to the Glue Interactive Sessions Kernel\nFor more information on available magic commands, please type %help in any new cell.\n\nPlease view our Getting Started page to access the most up-to-date information on the Interactive Sessions kernel: https://docs.aws.amazon.com/glue/latest/dg/interactive-sessions.html\nInstalled kernel version: 1.0.4 \nTrying to create a Glue session for the kernel.\nSession Type: glueetl\nWorker Type: G.1X\nNumber of Workers: 5\nSession ID: 81467060-28b6-4605-adf7-9e0100b58278\nApplying the following default arguments:\n--glue_kernel_version 1.0.4\n--enable-glue-datacatalog true\nWaiting for session 81467060-28b6-4605-adf7-9e0100b58278 to get into ready status...\nSession 81467060-28b6-4605-adf7-9e0100b58278 has been created.\n\n",
					"output_type": "stream"
				}
			]
		},
		{
			"cell_type": "code",
			"source": "sc = SparkContext.getOrCreate()",
			"metadata": {
				"trusted": true,
				"tags": []
			},
			"execution_count": 18,
			"outputs": [
				{
					"name": "stdout",
					"text": "\n",
					"output_type": "stream"
				}
			]
		},
		{
			"cell_type": "markdown",
			"source": "## Count rows compare between raw file and bronze layer",
			"metadata": {}
		},
		{
			"cell_type": "code",
			"source": "#Bronze layer - Book data\nbook_data = glueContext.create_dynamic_frame.from_catalog(database=\"brnz\", table_name= \"book_data\")\nbook_data.count()",
			"metadata": {
				"trusted": true,
				"tags": []
			},
			"execution_count": 19,
			"outputs": [
				{
					"name": "stdout",
					"text": "212404\n",
					"output_type": "stream"
				}
			]
		},
		{
			"cell_type": "code",
			"source": "#Raw file\nbook_data_sri = glueContext.create_dynamic_frame.from_catalog(database=\"sri\", table_name= \"book_data\")\nbook_data_sri.count()",
			"metadata": {
				"trusted": true,
				"tags": []
			},
			"execution_count": 20,
			"outputs": [
				{
					"name": "stdout",
					"text": "212404\n",
					"output_type": "stream"
				}
			]
		},
		{
			"cell_type": "code",
			"source": "#Bronze layer - Book Rating\nbook_rating = glueContext.create_dynamic_frame.from_catalog(database=\"brnz\", table_name= \"book_rating\")\nbook_rating.count()",
			"metadata": {
				"trusted": true,
				"tags": []
			},
			"execution_count": 21,
			"outputs": [
				{
					"name": "stdout",
					"text": "3000000\n",
					"output_type": "stream"
				}
			]
		},
		{
			"cell_type": "code",
			"source": "#Raw file\nbook_rating_sri = glueContext.create_dynamic_frame.from_catalog(database=\"sri\", table_name= \"book_rating\")\nbook_rating_sri.count()",
			"metadata": {
				"trusted": true,
				"tags": []
			},
			"execution_count": 22,
			"outputs": [
				{
					"name": "stdout",
					"text": "3000000\n",
					"output_type": "stream"
				}
			]
		},
		{
			"cell_type": "code",
			"source": "#Bronze layer - Liquor data\nliquor_data = glueContext.create_dynamic_frame.from_catalog(database=\"brnz\", table_name= \"liquor_data\")\nliquor_data.count()",
			"metadata": {
				"trusted": true,
				"tags": []
			},
			"execution_count": 30,
			"outputs": [
				{
					"name": "stdout",
					"text": "19666763\n",
					"output_type": "stream"
				}
			]
		},
		{
			"cell_type": "code",
			"source": "#Raw file - Liquor data\nliquor_data = glueContext.create_dynamic_frame.from_catalog(database=\"sri\", table_name= \"liquor_data\")\nliquor_data.count()",
			"metadata": {
				"trusted": true,
				"tags": []
			},
			"execution_count": 23,
			"outputs": [
				{
					"name": "stdout",
					"text": "19666763\n",
					"output_type": "stream"
				}
			]
		},
		{
			"cell_type": "code",
			"source": "#Bronze layer - Sales data\nsales_data = glueContext.create_dynamic_frame.from_catalog(database=\"brnz\", table_name= \"sales_data\")\nsales_data.count()",
			"metadata": {
				"trusted": true,
				"tags": []
			},
			"execution_count": 24,
			"outputs": [
				{
					"name": "stdout",
					"text": "186849\n",
					"output_type": "stream"
				}
			]
		},
		{
			"cell_type": "code",
			"source": "#Raw file - Sales data\nsales_data = glueContext.create_dynamic_frame.from_catalog(database=\"sri\", table_name= \"salesdata\")\nsales_data.count()",
			"metadata": {
				"trusted": true,
				"tags": []
			},
			"execution_count": 25,
			"outputs": [
				{
					"name": "stdout",
					"text": "186849\n",
					"output_type": "stream"
				}
			]
		},
		{
			"cell_type": "markdown",
			"source": "## Check Null values in gld tables",
			"metadata": {}
		},
		{
			"cell_type": "code",
			"source": "book_rating = glueContext.create_dynamic_frame.from_catalog(database=\"gld\", table_name= \"book_rating\")\nnull_id_count = book_rating.toDF().where(col(\"id\").isNull()).count()\nprint(null_id_count)",
			"metadata": {
				"trusted": true,
				"tags": []
			},
			"execution_count": 27,
			"outputs": [
				{
					"name": "stdout",
					"text": "0\n",
					"output_type": "stream"
				}
			]
		},
		{
			"cell_type": "code",
			"source": "sales_trans = glueContext.create_dynamic_frame.from_catalog(database=\"gld\", table_name= \"sales_transaction\")\nnull_id_count = sales_trans.toDF().where(col(\"id\").isNull()).count()\nprint(null_id_count)",
			"metadata": {
				"trusted": true,
				"tags": []
			},
			"execution_count": 28,
			"outputs": [
				{
					"name": "stdout",
					"text": "0\n",
					"output_type": "stream"
				}
			]
		},
		{
			"cell_type": "code",
			"source": "dim_location = glueContext.create_dynamic_frame.from_catalog(database=\"gld\", table_name= \"dim_location\")\nnull_id_count = dim_location.toDF().where(col(\"zip_code\").isNull()).count()\nprint(null_id_count)",
			"metadata": {
				"trusted": true,
				"tags": []
			},
			"execution_count": 8,
			"outputs": [
				{
					"name": "stdout",
					"text": "0\n",
					"output_type": "stream"
				}
			]
		},
		{
			"cell_type": "code",
			"source": "liquor_trans = glueContext.create_dynamic_frame.from_catalog(database=\"gld\", table_name= \"liquor_transaction\")\nnull_id_count = liquor_trans.toDF().where(col(\"id\").isNull()).count()\nprint(null_id_count)",
			"metadata": {
				"trusted": true,
				"tags": []
			},
			"execution_count": 11,
			"outputs": [
				{
					"name": "stdout",
					"text": "0\n",
					"output_type": "stream"
				}
			]
		},
		{
			"cell_type": "markdown",
			"source": "## Check Sum between brnz and gld tables",
			"metadata": {}
		},
		{
			"cell_type": "code",
			"source": "from pyspark.sql.functions import sum as spark_sum\n\nsales_trans = glueContext.create_dynamic_frame.from_catalog(database=\"gld\", table_name=\"sales_transaction\")\ndf = sales_trans.toDF()\nsum_quantity = df.select(spark_sum(\"quantity_ordered\")).collect()[0][0]\nprint(sum_quantity)\n",
			"metadata": {
				"trusted": true,
				"tags": []
			},
			"execution_count": 32,
			"outputs": [
				{
					"name": "stdout",
					"text": "209079\n",
					"output_type": "stream"
				}
			]
		},
		{
			"cell_type": "code",
			"source": "sales_trans = glueContext.create_dynamic_frame.from_catalog(database=\"brnz\", table_name=\"sales_data\")\ndf = sales_trans.toDF()\nsum_quantity = df.select(spark_sum(\"quantity_ordered\")).collect()[0][0]\nprint(sum_quantity)",
			"metadata": {
				"trusted": true,
				"tags": []
			},
			"execution_count": 33,
			"outputs": [
				{
					"name": "stdout",
					"text": "209079\n",
					"output_type": "stream"
				}
			]
		},
		{
			"cell_type": "markdown",
			"source": "## Check Duplicates in Dim table",
			"metadata": {}
		},
		{
			"cell_type": "code",
			"source": "dim_location = glueContext.create_dynamic_frame.from_catalog(database=\"gld\", table_name= \"dim_location\")\nduplicate_zip_count = dim_location.toDF().groupBy(\"zip_code\").count().where(col(\"count\") > 1).count()\nprint(\"Duplicate zip_code count:\", duplicate_zip_count)",
			"metadata": {
				"trusted": true,
				"tags": []
			},
			"execution_count": 34,
			"outputs": [
				{
					"name": "stdout",
					"text": "Duplicate zip_code count: 0\n",
					"output_type": "stream"
				}
			]
		},
		{
			"cell_type": "code",
			"source": "",
			"metadata": {},
			"execution_count": null,
			"outputs": []
		}
	]
}